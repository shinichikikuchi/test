{
 "cells": [
  {
   "cell_type": "code",
   "execution_count": 1,
   "metadata": {
    "collapsed": false
   },
   "outputs": [],
   "source": [
    "# -*- coding: utf-8 -*-\n",
    "\n",
    "import pandas as pd\n",
    "import numpy as np\n",
    "import matplotlib.pyplot as plt\n",
    "import matplotlib.cm as cm\n",
    "\n",
    "\n",
    "% matplotlib inline\n",
    "plt.style.use(\"ggplot\")\n",
    "\n",
    "folder = \"C:\\Users\\shinichi.kikuchi\\Desktop\\NMF\\data\\\\\"\n",
    "\n"
   ]
  },
  {
   "cell_type": "code",
   "execution_count": 2,
   "metadata": {
    "collapsed": true
   },
   "outputs": [],
   "source": [
    "#####  財務数値のスケーリング（指標：1～5、欠損：0）  #####\n",
    "\n",
    "def scaling_data ( ds ):\n",
    "    \n",
    "    ds2 = pd.to_numeric ( ds ) * 1.0\n",
    "    ds3 = ds2[ ds2.isnull()== False ]\n",
    "    \n",
    "    ds4 = ( ( ds3 - ds3.min() ) + 1e-10 ).apply(np.log)\n",
    "\n",
    "    x_min = ds3.min()\n",
    "    logx_min = ds4.median() - ds4.std() * 3\n",
    "    logx_max = ds4.median() + ds4.std() * 3\n",
    "    \n",
    "\n",
    "    ds_new = ds2\n",
    "    for i, x in enumerate(ds2):  \n",
    "        if x!=x:\n",
    "            ds_new[i]=0\n",
    "        else:\n",
    "            logx = np.log ( ( x - x_min ) + 1e-10 )\n",
    "    \n",
    "            if ( logx < logx_min ):\n",
    "                logx = logx_min\n",
    "        \n",
    "            if ( logx > logx_max):\n",
    "                logx = logx_max\n",
    "            \n",
    "            log_score = ( logx - logx_min ) / ( logx_max - logx_min ) \n",
    "            \n",
    "            ds_new[i] = log_score * 4 + 1\n",
    "            \n",
    "    return ds_new\n",
    "\n",
    "\n",
    "def scaling_all_data ( df ):\n",
    "    \n",
    "    df2 = df\n",
    "    \n",
    "    for cc in df2.columns:        \n",
    "        df2[cc] = scaling_data ( df[cc] )\n",
    "        \n",
    "    return df2\n",
    "\n"
   ]
  },
  {
   "cell_type": "code",
   "execution_count": 3,
   "metadata": {
    "collapsed": false
   },
   "outputs": [],
   "source": [
    "#####  メイン関数  #####\n",
    "\n",
    "\n",
    "#####  データマートの作成  #####\n",
    "df = pd.read_csv ( folder + \"datamart2.csv\", header=None).T        # 15社\n",
    "\n",
    "\n",
    "df.columns = df.ix[0,]\n",
    "df2 = df.drop(df.index[[0]]).reset_index(drop=True)\n",
    "\n",
    "df21 = df2.drop([ \"コード\", \"企業名\" ], axis=1)\n",
    "df22 = df2[ [\"コード\", \"企業名\"] ]\n",
    "\n",
    "X = scaling_all_data ( df21 )\n",
    "datamart = pd.concat ( [df22, X], axis=1 )\n",
    "\n",
    "company_label = datamart[ [\"コード\", \"企業名\"] ]\n",
    "zaimu_label = pd.DataFrame ( datamart.columns[2:] )\n",
    "\n"
   ]
  },
  {
   "cell_type": "code",
   "execution_count": null,
   "metadata": {
    "collapsed": false
   },
   "outputs": [],
   "source": [
    "import nimfa\n",
    "import pandas as pd\n",
    "\n",
    "\n",
    "nmf = nimfa.Nmf(X.as_matrix(), seed='random_vcol', max_iter=10000)\n",
    "nmf_fit = nmf()\n",
    "\n",
    "summary = nmf.estimate_rank ( rank_range=range(2,16), what='all', n_run=200 ) \n",
    "\n",
    "\n",
    "df_rank = pd.DataFrame ( columns=['rank', 'cophenetic'] )\n",
    "for rank, vals in summary.items():\n",
    "    df_rank = df_rank.append ( pd.Series ( [rank, vals['cophenetic']], index=['rank', 'cophenetic']), ignore_index=True )\n",
    "\n",
    "    \n",
    "df_rank.set_index(\"rank\").plot()\n",
    "\n"
   ]
  },
  {
   "cell_type": "code",
   "execution_count": 144,
   "metadata": {
    "collapsed": true
   },
   "outputs": [],
   "source": [
    "def reorder ( C ):\n",
    "    Y = 1 - C \n",
    "    Z = linkage ( squareform(Y), method='average' ) \n",
    "    ivl = leaves_list(Z) \n",
    "    ivl = ivl[::-1] \n",
    "    return C[:, ivl][ivl, :]\n",
    "\n"
   ]
  },
  {
   "cell_type": "code",
   "execution_count": 148,
   "metadata": {
    "collapsed": false
   },
   "outputs": [],
   "source": [
    "V = X.as_matrix()\n",
    "\n",
    "\n",
    "for rank in range(2,3): \n",
    "    consensus = np.zeros ( (V.shape[1], V.shape[1]) ) \n",
    "    \n",
    "    for i in range(20): \n",
    "        nmf = nimfa.Nmf ( V, rank=rank, seed=\"random_vcol\", max_iter=100, update='euclidean', objective='conn', conn_change=40) \n",
    "        fit = nmf() \n",
    "        consensus += fit.fit.connectivity()\n",
    "    \n",
    "    consensus /= 20.0 \n",
    "    p_consensus = reorder(consensus) \n",
    "    #plt.plot(p_consensus, rank) \n",
    "\n"
   ]
  },
  {
   "cell_type": "code",
   "execution_count": null,
   "metadata": {
    "collapsed": true
   },
   "outputs": [],
   "source": [
    "A = p_consensus \n",
    "avec = np.array([A[i, j] for i in range(A.shape[0] - 1) for j in range(i + 1, A.shape[1])]) \n",
    "Y = 1 - avec \n",
    "Z = linkage(Y, method='average') \n",
    "return cophenet(Z, Y)[0] \n"
   ]
  },
  {
   "cell_type": "code",
   "execution_count": 153,
   "metadata": {
    "collapsed": false
   },
   "outputs": [
    {
     "name": "stdout",
     "output_type": "stream",
     "text": [
      "(97L, 97L)\n"
     ]
    }
   ],
   "source": [
    "print p_consensus.shape"
   ]
  },
  {
   "cell_type": "code",
   "execution_count": 108,
   "metadata": {
    "collapsed": true
   },
   "outputs": [],
   "source": [
    "from scipy.cluster.hierarchy import linkage, leaves_list \n",
    "from scipy.spatial.distance import squareform\n",
    "from matplotlib.pyplot import savefig, imshow, set_cmap\n",
    "\n",
    "\n",
    "def plot_consensus_rank ( X, rank ):\n",
    "    lsnmf = nimfa.Lsnmf ( X.as_matrix(), seed='random_vcol', rank=rank, max_iter=100 )\n",
    "    lsnmf_fit = lsnmf()\n",
    "    \n",
    "    C = lsnmf.consensus()\n",
    "    Y = 1 - C \n",
    "    Z = linkage ( squareform(Y), method='average' ) \n",
    "    ivl = leaves_list(Z) \n",
    "    ivl = ivl[::-1] \n",
    "    C2 = C[:, ivl][ivl, :]\n",
    "    \n",
    "    set_cmap(\"RdBu_r\") \n",
    "    imshow(C2) \n",
    "\n",
    "    "
   ]
  },
  {
   "cell_type": "code",
   "execution_count": 110,
   "metadata": {
    "collapsed": false
   },
   "outputs": [
    {
     "data": {
      "image/png": "[encoded data removed]",
      "text/plain": [
       "<matplotlib.figure.Figure at 0x10ec3048>"
      ]
     },
     "metadata": {},
     "output_type": "display_data"
    }
   ],
   "source": [
    "lsnmf = nimfa.Lsnmf(X.as_matrix(), seed='random_vcol', rank=10, max_iter=100)\n",
    "lsnmf_fit = lsnmf()\n",
    "plot_consensus(lsnmf.consensus())"
   ]
  },
  {
   "cell_type": "code",
   "execution_count": 130,
   "metadata": {
    "collapsed": false
   },
   "outputs": [],
   "source": [
    "\n",
    "  \n",
    "    "
   ]
  },
  {
   "cell_type": "code",
   "execution_count": 127,
   "metadata": {
    "collapsed": false
   },
   "outputs": [
    {
     "data": {
      "image/png": "[encoded data removed]",
      "text/plain": [
       "<matplotlib.figure.Figure at 0x131b5710>"
      ]
     },
     "metadata": {},
     "output_type": "display_data"
    }
   ],
   "source": [
    "plot_consensus_rank ( X, rank=4 )"
   ]
  },
  {
   "cell_type": "code",
   "execution_count": 129,
   "metadata": {
    "collapsed": false
   },
   "outputs": [
    {
     "data": {
      "image/png": "[encoded data removed]",
      "text/plain": [
       "<matplotlib.figure.Figure at 0x13106128>"
      ]
     },
     "metadata": {},
     "output_type": "display_data"
    }
   ],
   "source": [
    "plot_consensus_rank ( X, rank=2 )"
   ]
  },
  {
   "cell_type": "code",
   "execution_count": 131,
   "metadata": {
    "collapsed": false
   },
   "outputs": [
    {
     "data": {
      "image/png": "[encoded data removed]",
      "text/plain": [
       "<matplotlib.figure.Figure at 0x11001048>"
      ]
     },
     "metadata": {},
     "output_type": "display_data"
    }
   ],
   "source": [
    "plot_consensus_rank ( X, rank=9 )"
   ]
  },
  {
   "cell_type": "code",
   "execution_count": null,
   "metadata": {
    "collapsed": true
   },
   "outputs": [],
   "source": []
  }
 ],
 "metadata": {
  "anaconda-cloud": {},
  "kernelspec": {
   "display_name": "Python [default]",
   "language": "python",
   "name": "python2"
  },
  "language_info": {
   "codemirror_mode": {
    "name": "ipython",
    "version": 2
   },
   "file_extension": ".py",
   "mimetype": "text/x-python",
   "name": "python",
   "nbconvert_exporter": "python",
   "pygments_lexer": "ipython2",
   "version": "2.7.12"
  }
 },
 "nbformat": 4,
 "nbformat_minor": 1
}
