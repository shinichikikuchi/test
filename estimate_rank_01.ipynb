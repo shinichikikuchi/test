{
 "cells": [
  {
   "cell_type": "code",
   "execution_count": 1,
   "metadata": {
    "collapsed": false
   },
   "outputs": [
    {
     "name": "stdout",
     "output_type": "stream",
     "text": [
      "Rss: 0.0706\n",
      "Evar: 0.9999\n",
      "K-L divergence: 24.1055\n",
      "Sparseness, W: 0.7448, H: 0.8202\n"
     ]
    }
   ],
   "source": [
    "import nimfa\n",
    "\n",
    "V = nimfa.examples.medulloblastoma.read(normalize=True)\n",
    "\n",
    "lsnmf = nimfa.Lsnmf(V, seed='random_vcol', rank=50, max_iter=100)\n",
    "lsnmf_fit = lsnmf()\n",
    "\n",
    "print('Rsssss: %5.4f' % lsnmf_fit.fit.rss())\n",
    "print('Evar: %5.4f' % lsnmf_fit.fit.evar())\n",
    "print('K-L divergence: %5.4f' % lsnmf_fit.distance(metric='kl'))\n",
    "print('Sparseness, W: %5.4f, H: %5.4f' % lsnmf_fit.fit.sparseness())\n",
    "\n"
   ]
  },
  {
   "cell_type": "code",
   "execution_count": 46,
   "metadata": {
    "collapsed": false
   },
   "outputs": [],
   "source": [
    "sumarry = lsnmf.estimate_rank(rank_range=[2,3,5], what=\"all\") \n",
    "\n",
    "# pp_r = '\\n'.join('%d: %5.3f' % (rank, vals['cophenetic']) for rank, vals in r.items()) \n",
    "\n",
    "# print('Rank estimate:\\n%s' % pp_r) \n",
    "\n"
   ]
  },
  {
   "cell_type": "code",
   "execution_count": 45,
   "metadata": {
    "collapsed": false
   },
   "outputs": [
    {
     "name": "stdout",
     "output_type": "stream",
     "text": [
      "2 1.0\n",
      "3 0.994393261671\n"
     ]
    }
   ],
   "source": [
    "for rank, vals in sumarry.items():\n",
    "    print rank, vals['cophenetic']\n"
   ]
  },
  {
   "cell_type": "code",
   "execution_count": null,
   "metadata": {
    "collapsed": true
   },
   "outputs": [],
   "source": []
  }
 ],
 "metadata": {
  "anaconda-cloud": {},
  "kernelspec": {
   "display_name": "Python [default]",
   "language": "python",
   "name": "python2"
  },
  "language_info": {
   "codemirror_mode": {
    "name": "ipython",
    "version": 2
   },
   "file_extension": ".py",
   "mimetype": "text/x-python",
   "name": "python",
   "nbconvert_exporter": "python",
   "pygments_lexer": "ipython2",
   "version": "2.7.12"
  }
 },
 "nbformat": 4,
 "nbformat_minor": 1
}
